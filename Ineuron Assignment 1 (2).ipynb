{
 "cells": [
  {
   "cell_type": "markdown",
   "metadata": {},
   "source": [
    "1. In the below elements which of them are values or an expression? eg:- values can be integer or string and expressions will be mathematical operators.\n",
    "\n",
    " (Expression  *)\n",
    " (Value       'hello')\n",
    "( value        -87.8)\n",
    "(Expression  -)\n",
    "( Expression  /)\n",
    "( Expression  +)\n",
    "( Value       6)\n",
    "\n",
    "\n",
    "\n",
    "2. What is the difference between string and variable?\n",
    "String - Strings are always enclosed between \" \" or ''. They can be letters, numbers or symbols enclosed in inverted commas\n",
    "variable - Name given to a perticular memory loaction in which vale is stored.\n",
    "eg. a = \"Assignment\"\n",
    "here, a is a variable and Assignment is a string\n",
    "\n",
    "\n",
    "\n",
    "3. Describe three different data types.\n",
    "Integer - This are positive or negative whole numbers without decimal points \n",
    "          type(5) - int in python\n",
    "String  - Strings are always enclosed between \" \" or ''. They can be letters, numbers or symbols enclosed in inverted                 commas. eg \"7\" - is astring\n",
    "Float   - This are floating point numbers , numbers with decimal point\n",
    "          eg . type(9.8) - float \n",
    "Boolean - Values in the form of \"True\" or \"False\" \n",
    "          eg. type(True)  - Bool\n",
    " \n",
    " \n",
    "\n",
    "4. What is an expression made up of? What do all expressions do?\n",
    "Expression describes a computation or operatiom performed on data. The interpretor evaluates the expression and desplays a result. eg ?mathematical operators such as *,/,+,- etc . \n",
    "\n",
    "\n",
    "\n",
    "5. This assignment statements, like spam = 10. What is the difference between an expression and a statement?\n",
    "An expression evaluates a value it is a combination of variables, operations and values that yeild reults. A statement represents an action or command . Therefore, spam = 10 is a assignment statement where 10 is assigned a name spam.\n",
    "\n",
    "\n",
    "\n",
    "6. After running the following code, what does the variable bacon contain?\n",
    "The  variable becon contains a value 23 "
   ]
  },
  {
   "cell_type": "code",
   "execution_count": 1,
   "metadata": {},
   "outputs": [
    {
     "data": {
      "text/plain": [
       "23"
      ]
     },
     "execution_count": 1,
     "metadata": {},
     "output_type": "execute_result"
    }
   ],
   "source": [
    "bacon = 22\n",
    "bacon + 1"
   ]
  },
  {
   "cell_type": "markdown",
   "metadata": {},
   "source": [
    "7. What should the values of the following two terms be?\n",
    "'spam' + 'spamspam'\n",
    "'spam' * 3\n",
    "The value of both the terms will be spamspamspam"
   ]
  },
  {
   "cell_type": "code",
   "execution_count": 2,
   "metadata": {},
   "outputs": [
    {
     "data": {
      "text/plain": [
       "'spamspamspam'"
      ]
     },
     "execution_count": 2,
     "metadata": {},
     "output_type": "execute_result"
    }
   ],
   "source": [
    "'spam' + 'spamspam'"
   ]
  },
  {
   "cell_type": "code",
   "execution_count": 3,
   "metadata": {},
   "outputs": [
    {
     "data": {
      "text/plain": [
       "'spamspamspam'"
      ]
     },
     "execution_count": 3,
     "metadata": {},
     "output_type": "execute_result"
    }
   ],
   "source": [
    "'spam' * 3"
   ]
  },
  {
   "cell_type": "code",
   "execution_count": null,
   "metadata": {},
   "outputs": [],
   "source": []
  },
  {
   "cell_type": "markdown",
   "metadata": {},
   "source": [
    "8. Why is eggs a valid variable name while 100 is invalid?\n",
    "A valid variable name starts with a letter, followed by letters, digits, or underscores.\n",
    "100 is digit but it has to be preceeded with a letter and egg is valid variable name "
   ]
  },
  {
   "cell_type": "code",
   "execution_count": 4,
   "metadata": {},
   "outputs": [],
   "source": [
    "egg = 10"
   ]
  },
  {
   "cell_type": "code",
   "execution_count": 5,
   "metadata": {},
   "outputs": [
    {
     "ename": "SyntaxError",
     "evalue": "cannot assign to literal (<ipython-input-5-f22bc63eb1e1>, line 1)",
     "output_type": "error",
     "traceback": [
      "\u001b[1;36m  File \u001b[1;32m\"<ipython-input-5-f22bc63eb1e1>\"\u001b[1;36m, line \u001b[1;32m1\u001b[0m\n\u001b[1;33m    100 = \"invalid variable name\"\u001b[0m\n\u001b[1;37m    ^\u001b[0m\n\u001b[1;31mSyntaxError\u001b[0m\u001b[1;31m:\u001b[0m cannot assign to literal\n"
     ]
    }
   ],
   "source": [
    "100 = \"invalid variable name\""
   ]
  }
 ],
 "metadata": {
  "kernelspec": {
   "display_name": "Python 3",
   "language": "python",
   "name": "python3"
  },
  "language_info": {
   "codemirror_mode": {
    "name": "ipython",
    "version": 3
   },
   "file_extension": ".py",
   "mimetype": "text/x-python",
   "name": "python",
   "nbconvert_exporter": "python",
   "pygments_lexer": "ipython3",
   "version": "3.8.5"
  }
 },
 "nbformat": 4,
 "nbformat_minor": 4
}
